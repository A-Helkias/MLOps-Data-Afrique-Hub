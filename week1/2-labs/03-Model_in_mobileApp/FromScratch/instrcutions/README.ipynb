{
 "cells": [
  {
   "attachments": {},
   "cell_type": "markdown",
   "metadata": {},
   "source": [
    "<div style=\"font-size: 1.2em; background-color: #85cada; padding: 1em; font-weight: bold; color: ;\">\n",
    "    From Scratch Model deployement in Mobile App\n",
    "    <br>    \n",
    "</div>"
   ]
  },
  {
   "attachments": {},
   "cell_type": "markdown",
   "metadata": {},
   "source": [
    "source: \n",
    "* <a href=\"https://onnxruntime.ai/docs/tutorials/mobile/\">onnxruntime.ai</a>\n",
    "* <a href=\"https://chatgpt.com/\">chatgpt my friend</a>\n",
    "\n"
   ]
  },
  {
   "attachments": {},
   "cell_type": "markdown",
   "metadata": {},
   "source": [
    "flemme..."
   ]
  },
  {
   "cell_type": "markdown",
   "metadata": {},
   "source": []
  }
 ],
 "metadata": {
  "language_info": {
   "name": "python"
  },
  "orig_nbformat": 4
 },
 "nbformat": 4,
 "nbformat_minor": 2
}
