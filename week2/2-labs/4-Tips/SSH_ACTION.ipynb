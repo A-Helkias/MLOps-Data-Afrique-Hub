{
 "cells": [
  {
   "attachments": {},
   "cell_type": "markdown",
   "metadata": {},
   "source": [
    "<div style=\"background-color:#b5add6; padding: 1em; color: black;\">\n",
    "    NGROK – Déployer vos applications sur un server par connexion SSH et github action\n",
    "</div>"
   ]
  },
  {
   "attachments": {},
   "cell_type": "markdown",
   "metadata": {},
   "source": [
    "Cet notebook a été rédigé grace au sources suivantes: \n",
    "* <a href=\"https://github.com/appleboy/ssh-action\">https://github.com/appleboy/ssh-action</a>"
   ]
  },
  {
   "attachments": {},
   "cell_type": "markdown",
   "metadata": {},
   "source": [
    "flemme... c'est si clair"
   ]
  },
  {
   "cell_type": "markdown",
   "metadata": {},
   "source": []
  }
 ],
 "metadata": {
  "language_info": {
   "name": "python"
  },
  "orig_nbformat": 4
 },
 "nbformat": 4,
 "nbformat_minor": 2
}
