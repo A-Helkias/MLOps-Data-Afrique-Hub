{
 "cells": [
  {
   "attachments": {},
   "cell_type": "markdown",
   "metadata": {},
   "source": [
    "<div style=\"background-color:#b5add6; padding: 1em; color: black;\">\n",
    "    DAH - Week2, Lab1\n",
    "</div>"
   ]
  },
  {
   "attachments": {},
   "cell_type": "markdown",
   "metadata": {},
   "source": [
    "* Import dependencies"
   ]
  },
  {
   "cell_type": "code",
   "execution_count": 1,
   "metadata": {},
   "outputs": [],
   "source": [
    "import requests"
   ]
  },
  {
   "cell_type": "markdown",
   "metadata": {},
   "source": [
    "* Utils"
   ]
  },
  {
   "cell_type": "code",
   "execution_count": 4,
   "metadata": {},
   "outputs": [],
   "source": [
    "\n",
    "url = 'http://localhost:11434/api/generate'\n",
    "reviews = [\n",
    "    \"1 - Les horaires d'ouverture des agences ne sont pas pratiques pour les travailleurs. Les taux d'intérêt sont très compétitifs. Le processus de clôture de compte est très compliqué.\",\n",
    "    \"2 - L'ouverture de compte a été très rapide et simple. Le personnel est toujours accueillant et souriant.\",\n",
    "    \"3 - Je suis déçu par le manque de transparence sur les frais. La banque offre de nombreux services utiles pour les PME.\",\n",
    "    \"4 - Les notifications par SMS sont très utiles pour suivre les transactions. C'est quoi cette merde vous avez de longue fille devant votre agence. J'attend pendant 3h et on me dire que je ne peut etre servir. Je ne reviendrai plus jamais.\",\n",
    "    \"5 - Je trouve que les applications bancaires sont trop compliquées. Le service de conseil en investissement est excellent. Les horaires d'ouverture des agences ne sont pas pratiques pour les travailleurs.\"\n",
    "]\n",
    "prompt_params = {\n",
    "    \"model\": \"llama3\",\n",
    "    \"prompt\": \"Extract and return list of topics from these reviews also extract sentiement per topic and give the result in this format {topic:sentiment}: \" + str(reviews),\n",
    "    \"stream\": False\n",
    "}"
   ]
  },
  {
   "cell_type": "markdown",
   "metadata": {},
   "source": [
    "* Chating with LLAMA3"
   ]
  },
  {
   "cell_type": "code",
   "execution_count": 5,
   "metadata": {},
   "outputs": [
    {
     "name": "stdout",
     "output_type": "stream",
     "text": [
      "Response: \n",
      "After analyzing the reviews, I extracted the following topics:\n",
      "\n",
      "1. **Opening hours**: {topic: mixed sentiment}\n",
      "\t* Reviews 1 and 5 mention the opening hours of the agencies as a problem for workers.\n",
      "2. **Interest rates**: {topic: positive sentiment}\n",
      "\t* Review 1 mentions that the interest rates are \"très compétitifs\" (very competitive).\n",
      "3. **Account opening process**: {topic: mixed sentiment}\n",
      "\t* Review 1 mentions that the account closure process is complicated, while Review 2 says it was fast and simple.\n",
      "4. **Transparency on fees**: {topic: negative sentiment}\n",
      "\t* Review 3 expresses disappointment with the lack of transparency on fees.\n",
      "5. **Bank services for small businesses**: {topic: positive sentiment}\n",
      "\t* Review 3 mentions that the bank offers useful services for small businesses (PMEs).\n",
      "6. **Notifications and transaction tracking**: {topic: positive sentiment}\n",
      "\t* Review 4 finds the SMS notifications helpful for tracking transactions.\n",
      "7. **Branch experience**: {topic: negative sentiment}\n",
      "\t* Review 4 expresses frustration with a long wait time at an agency and poor service.\n",
      "\n",
      "Please note that some reviews may cover multiple topics, but I've tried to categorize each review into its most relevant topic(s). The sentiment scores are based on the overall tone of each review.\n"
     ]
    }
   ],
   "source": [
    "response = requests.post(url, json=prompt_params)\n",
    "\n",
    "if response.status_code == 200:\n",
    "    response_data = response.json()\n",
    "    api_response = response_data.get('response', 'No response field found')\n",
    "    print(\"Response: \")\n",
    "    print(api_response)\n",
    "else:\n",
    "    print(f\"Failed to retrieve data, status code {response.status_code}\")"
   ]
  },
  {
   "cell_type": "code",
   "execution_count": null,
   "metadata": {},
   "outputs": [],
   "source": []
  }
 ],
 "metadata": {
  "kernelspec": {
   "display_name": "PyGenomics",
   "language": "python",
   "name": "pygenomics"
  },
  "language_info": {
   "codemirror_mode": {
    "name": "ipython",
    "version": 3
   },
   "file_extension": ".py",
   "mimetype": "text/x-python",
   "name": "python",
   "nbconvert_exporter": "python",
   "pygments_lexer": "ipython3",
   "version": "3.11.7"
  }
 },
 "nbformat": 4,
 "nbformat_minor": 4
}
